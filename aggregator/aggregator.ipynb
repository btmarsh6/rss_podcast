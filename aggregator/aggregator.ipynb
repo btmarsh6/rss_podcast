{
 "cells": [
  {
   "cell_type": "code",
   "execution_count": 1,
   "metadata": {},
   "outputs": [],
   "source": [
    "import feedparser\n",
    "import requests\n"
   ]
  },
  {
   "cell_type": "code",
   "execution_count": 13,
   "metadata": {},
   "outputs": [],
   "source": [
    "RSS_FEEDS = {\n",
    "    'The Tyee': 'https://thetyee.ca/rss2.xml',\n",
    "    'Daily Hive': 'https://dailyhive.com/feed/vancouver',\n",
    "    'The Province': 'https://theprovince.com/feed'\n",
    "}\n",
    "\n",
    "BLOCKED_FEEDS = {\n",
    "    'CBC': 'https://www.cbc.ca/webfeed/rss/rss-canada-britishcolumbia'\n",
    "}\n",
    "\n",
    "def get_news():\n",
    "    articles = []\n",
    "    for source, feed in RSS_FEEDS.items():\n",
    "        parsed_feed = feedparser.parse(feed)\n",
    "        entries = [(source, entry) for entry in parsed_feed.entries]\n",
    "        articles.extend(entries)\n",
    "\n",
    "    # may have to add error handling here. not every rss feed has\n",
    "    # a published_parsed field\n",
    "    articles = sorted(articles, key=lambda x: x[1].published_parsed,\n",
    "                      reverse=True)\n",
    "    return articles\n",
    "\n",
    "\n",
    "def search(query):\n",
    "    articles = []\n",
    "    for source, feed in RSS_FEEDS.items():\n",
    "        parsed_feed = feedparser.parse(feed)\n",
    "        entries = [(source, entry) for entry in parsed_feed.entries]\n",
    "        articles.extend(entries)\n",
    "    results = [article for article in articles if query.lower() in article[1].title.lower()]\n",
    "    return results\n"
   ]
  },
  {
   "cell_type": "code",
   "execution_count": 14,
   "metadata": {},
   "outputs": [],
   "source": [
    "articles = get_news()"
   ]
  },
  {
   "cell_type": "code",
   "execution_count": 15,
   "metadata": {},
   "outputs": [
    {
     "data": {
      "text/plain": [
       "81"
      ]
     },
     "execution_count": 15,
     "metadata": {},
     "output_type": "execute_result"
    }
   ],
   "source": [
    "len(articles)"
   ]
  },
  {
   "cell_type": "code",
   "execution_count": null,
   "metadata": {},
   "outputs": [],
   "source": [
    "for article in articles:\n",
    "    print(article[0], article[1].title, article[1].link)"
   ]
  },
  {
   "cell_type": "code",
   "execution_count": 2,
   "metadata": {},
   "outputs": [],
   "source": [
    "rss_url = 'https://www.cbc.ca/webfeed/rss/rss-canada-britishcolumbia'\n",
    "test_2 = 'https://www.cbc.ca/webfeed/rss/rss-politics'\n",
    "d = feedparser.parse(test_2)"
   ]
  },
  {
   "cell_type": "code",
   "execution_count": 2,
   "metadata": {},
   "outputs": [
    {
     "name": "stdout",
     "output_type": "stream",
     "text": [
      "[{'title': 'Trudeau voices support for Ukraine following tense Trump-Zelenskyy meeting', 'title_detail': {'type': 'text/plain', 'language': None, 'base': '', 'value': 'Trudeau voices support for Ukraine following tense Trump-Zelenskyy meeting'}, 'links': [{'rel': 'alternate', 'type': 'text/html', 'href': 'https://www.cbc.ca/news/politics/canada-reaction-trump-zelenskyy-meeting-1.7471760?cmp=rss'}], 'link': 'https://www.cbc.ca/news/politics/canada-reaction-trump-zelenskyy-meeting-1.7471760?cmp=rss', 'summary': '<img alt=\"Two men sit in chairs in front of a fire place.\" height=\"349\" src=\"https://i.cbc.ca/1.7471791.1740772263!/fileImage/httpImage/image.jpg_gen/derivatives/16x9_620/aptopix-trump-zelenskyy.jpg\" title=\"President Donald Trump, right, meets with Ukrainian President Volodymyr Zelenskyy in the Oval Office at the White House, Friday, Feb. 28, 2025, in Washington.\" width=\"620\" /><p>Prime Minister Justin Trudeau voiced support for Ukraine after a meeting between U.S. President Donald Trump and Ukraine President\\xa0Volodymyr Zelenskyy went completely off the rails.</p>', 'summary_detail': {'type': 'text/html', 'language': None, 'base': '', 'value': '<img alt=\"Two men sit in chairs in front of a fire place.\" height=\"349\" src=\"https://i.cbc.ca/1.7471791.1740772263!/fileImage/httpImage/image.jpg_gen/derivatives/16x9_620/aptopix-trump-zelenskyy.jpg\" title=\"President Donald Trump, right, meets with Ukrainian President Volodymyr Zelenskyy in the Oval Office at the White House, Friday, Feb. 28, 2025, in Washington.\" width=\"620\" /><p>Prime Minister Justin Trudeau voiced support for Ukraine after a meeting between U.S. President Donald Trump and Ukraine President\\xa0Volodymyr Zelenskyy went completely off the rails.</p>'}, 'published': 'Fri, 28 Feb 2025 17:05:33 EST', 'published_parsed': time.struct_time(tm_year=2025, tm_mon=2, tm_mday=28, tm_hour=22, tm_min=5, tm_sec=33, tm_wday=4, tm_yday=59, tm_isdst=0), 'tags': [{'term': 'News/Politics', 'scheme': None, 'label': None}], 'id': '1.7471760', 'guidislink': False, 'cbc_authorname': 'Darren Major'}, {'title': \"Joly says Canada-U.K. friendship is 'in our DNA' after British PM's White House comments\", 'title_detail': {'type': 'text/plain', 'language': None, 'base': '', 'value': \"Joly says Canada-U.K. friendship is 'in our DNA' after British PM's White House comments\"}, 'links': [{'rel': 'alternate', 'type': 'text/html', 'href': 'https://www.cbc.ca/news/politics/joly-starmer-canada-uk-1.7471906?cmp=rss'}], 'link': 'https://www.cbc.ca/news/politics/joly-starmer-canada-uk-1.7471906?cmp=rss', 'summary': '<img alt=\"Minister of Foreign Affairs Melanie Joly answers questions from journalists before a meeting of the Liberal caucus in West Block on Parliament Hill in Ottawa, on Thursday, Jan. 23, 2025.\" height=\"349\" src=\"https://i.cbc.ca/1.7442676.1738005670!/fileImage/httpImage/image.JPG_gen/derivatives/16x9_620/cda-us-tariffs-20250123.JPG\" title=\"Minister of Foreign Affairs Melanie Joly answers questions from journalists before a meeting of the Liberal caucus in West Block on Parliament Hill in Ottawa, on Thursday, Jan. 23, 2025.\" width=\"620\" /><p>Foreign Affairs Minister Mélanie Joly said she doesn\\'t believe the relationship between Canada and the United Kingdom has changed after comments made by the British prime minister\\xa0during a visit to the White House.</p>', 'summary_detail': {'type': 'text/html', 'language': None, 'base': '', 'value': '<img alt=\"Minister of Foreign Affairs Melanie Joly answers questions from journalists before a meeting of the Liberal caucus in West Block on Parliament Hill in Ottawa, on Thursday, Jan. 23, 2025.\" height=\"349\" src=\"https://i.cbc.ca/1.7442676.1738005670!/fileImage/httpImage/image.JPG_gen/derivatives/16x9_620/cda-us-tariffs-20250123.JPG\" title=\"Minister of Foreign Affairs Melanie Joly answers questions from journalists before a meeting of the Liberal caucus in West Block on Parliament Hill in Ottawa, on Thursday, Jan. 23, 2025.\" width=\"620\" /><p>Foreign Affairs Minister Mélanie Joly said she doesn\\'t believe the relationship between Canada and the United Kingdom has changed after comments made by the British prime minister\\xa0during a visit to the White House.</p>'}, 'published': 'Fri, 28 Feb 2025 18:01:11 EST', 'published_parsed': time.struct_time(tm_year=2025, tm_mon=2, tm_mday=28, tm_hour=23, tm_min=1, tm_sec=11, tm_wday=4, tm_yday=59, tm_isdst=0), 'tags': [{'term': 'News/Politics', 'scheme': None, 'label': None}], 'id': '1.7471906', 'guidislink': False, 'cbc_authorname': 'Holly Cabrera'}, {'title': 'Registered Liberals say online leadership voting system is rife with problems', 'title_detail': {'type': 'text/plain', 'language': None, 'base': '', 'value': 'Registered Liberals say online leadership voting system is rife with problems'}, 'links': [{'rel': 'alternate', 'type': 'text/html', 'href': 'https://www.cbc.ca/news/politics/liberal-leadership-voting-problems-1.7471740?cmp=rss'}], 'link': 'https://www.cbc.ca/news/politics/liberal-leadership-voting-problems-1.7471740?cmp=rss', 'summary': '<img alt=\"Liberal Party of Canada leadership candidates Karina Gould, Frank Baylis, Chrystia Freeland and Mark Carney pose prior to the English-language Liberal Leadership debate in Montreal on Tuesday, Feb. 25, 2025. The Federal Liberals will pick a new leader on March 9.\" height=\"349\" src=\"https://i.cbc.ca/1.7468563.1740532037!/fileImage/httpImage/image.JPG_gen/derivatives/16x9_620/liberal-leadership-debate-20250225.JPG\" title=\"Liberal Party of Canada leadership candidates Karina Gould, Frank Baylis, Chrystia Freeland and Mark Carney pose prior to the English-language Liberal Leadership debate in Montreal on Tuesday, Feb. 25, 2025. The Federal Liberals will pick a new leader on March 9.\" width=\"620\" /><p>The Liberal Party and Canada Post insist the federal party’s leadership vote is a model of efficiency, but multiple people trying to cast their ballots say the process has been a nightmare to navigate.</p>', 'summary_detail': {'type': 'text/html', 'language': None, 'base': '', 'value': '<img alt=\"Liberal Party of Canada leadership candidates Karina Gould, Frank Baylis, Chrystia Freeland and Mark Carney pose prior to the English-language Liberal Leadership debate in Montreal on Tuesday, Feb. 25, 2025. The Federal Liberals will pick a new leader on March 9.\" height=\"349\" src=\"https://i.cbc.ca/1.7468563.1740532037!/fileImage/httpImage/image.JPG_gen/derivatives/16x9_620/liberal-leadership-debate-20250225.JPG\" title=\"Liberal Party of Canada leadership candidates Karina Gould, Frank Baylis, Chrystia Freeland and Mark Carney pose prior to the English-language Liberal Leadership debate in Montreal on Tuesday, Feb. 25, 2025. The Federal Liberals will pick a new leader on March 9.\" width=\"620\" /><p>The Liberal Party and Canada Post insist the federal party’s leadership vote is a model of efficiency, but multiple people trying to cast their ballots say the process has been a nightmare to navigate.</p>'}, 'published': 'Fri, 28 Feb 2025 16:00:53 EST', 'published_parsed': time.struct_time(tm_year=2025, tm_mon=2, tm_mday=28, tm_hour=21, tm_min=0, tm_sec=53, tm_wday=4, tm_yday=59, tm_isdst=0), 'tags': [{'term': 'News/Politics', 'scheme': None, 'label': None}], 'id': '1.7471740', 'guidislink': False, 'cbc_authorname': 'Peter Zimonjic'}, {'title': \"Donald Trump has some thoughts about Canada's upcoming election\", 'title_detail': {'type': 'text/plain', 'language': None, 'base': '', 'value': \"Donald Trump has some thoughts about Canada's upcoming election\"}, 'links': [{'rel': 'alternate', 'type': 'text/html', 'href': 'https://www.cbc.ca/news/world/trump-canadian-politics-interview-1.7471276?cmp=rss'}], 'link': 'https://www.cbc.ca/news/world/trump-canadian-politics-interview-1.7471276?cmp=rss', 'summary': '<img alt=\"Closeup of Trump talking\" height=\"349\" src=\"https://i.cbc.ca/1.7471329.1740756381!/fileImage/httpImage/image.JPG_gen/derivatives/16x9_620/usa-britain.JPG\" title=\"U.S. President Donald Trump, seen Thursday at the White House while meeting British Prime Minister Keir Starmer. \" width=\"620\" /><p>U.S. President Donald Trump has made some of his most detailed public comments about Canadian politics. They include doubt about Pierre Poilievre\\'s commitment to MAGA and taking credit for the departure of Chrystia Freeland.</p>', 'summary_detail': {'type': 'text/html', 'language': None, 'base': '', 'value': '<img alt=\"Closeup of Trump talking\" height=\"349\" src=\"https://i.cbc.ca/1.7471329.1740756381!/fileImage/httpImage/image.JPG_gen/derivatives/16x9_620/usa-britain.JPG\" title=\"U.S. President Donald Trump, seen Thursday at the White House while meeting British Prime Minister Keir Starmer. \" width=\"620\" /><p>U.S. President Donald Trump has made some of his most detailed public comments about Canadian politics. They include doubt about Pierre Poilievre\\'s commitment to MAGA and taking credit for the departure of Chrystia Freeland.</p>'}, 'published': 'Fri, 28 Feb 2025 11:19:53 EST', 'published_parsed': time.struct_time(tm_year=2025, tm_mon=2, tm_mday=28, tm_hour=16, tm_min=19, tm_sec=53, tm_wday=4, tm_yday=59, tm_isdst=0), 'tags': [{'term': 'News/World', 'scheme': None, 'label': None}], 'id': '1.7471276', 'guidislink': False, 'cbc_authorname': 'Alexander Panetta'}, {'title': 'Many public servants in biggest federal departments breaking remote work rules', 'title_detail': {'type': 'text/plain', 'language': None, 'base': '', 'value': 'Many public servants in biggest federal departments breaking remote work rules'}, 'links': [{'rel': 'alternate', 'type': 'text/html', 'href': 'https://www.cbc.ca/news/politics/public-servants-remote-work-1.7471868?cmp=rss'}], 'link': 'https://www.cbc.ca/news/politics/public-servants-remote-work-1.7471868?cmp=rss', 'summary': '<img alt=\"A large, beige building is seen past some tree branches. A Canada flag is hung on the exterior and another is on a pole on top.\" height=\"349\" src=\"https://i.cbc.ca/1.7250263.1719605279!/cpImage/httpImage/image.jpg_gen/derivatives/16x9_620/dnd-canada-day-20240628.jpg\" title=\"Canadian flags are displayed at the National Defence headquarters for Canada Day in Ottawa on June 28, 2024.\" width=\"620\" /><p>Large numbers of public servants working in the federal government\\'s three biggest departments aren\\'t following Ottawa\\'s three-days-per-week office work rule, federal data shows.</p>', 'summary_detail': {'type': 'text/html', 'language': None, 'base': '', 'value': '<img alt=\"A large, beige building is seen past some tree branches. A Canada flag is hung on the exterior and another is on a pole on top.\" height=\"349\" src=\"https://i.cbc.ca/1.7250263.1719605279!/cpImage/httpImage/image.jpg_gen/derivatives/16x9_620/dnd-canada-day-20240628.jpg\" title=\"Canadian flags are displayed at the National Defence headquarters for Canada Day in Ottawa on June 28, 2024.\" width=\"620\" /><p>Large numbers of public servants working in the federal government\\'s three biggest departments aren\\'t following Ottawa\\'s three-days-per-week office work rule, federal data shows.</p>'}, 'published': 'Fri, 28 Feb 2025 16:10:55 EST', 'published_parsed': time.struct_time(tm_year=2025, tm_mon=2, tm_mday=28, tm_hour=21, tm_min=10, tm_sec=55, tm_wday=4, tm_yday=59, tm_isdst=0), 'tags': [{'term': 'News/Politics', 'scheme': None, 'label': None}], 'id': '1.7471868', 'guidislink': False, 'cbc_authorname': 'Catherine Morrison'}]\n"
     ]
    }
   ],
   "source": [
    "import feedparser\n",
    "\n",
    "headers = {\n",
    "    \"User-Agent\": \"Mozilla/5.0 (Windows NT 10.0; Win64; x64) AppleWebKit/537.36 (KHTML, like Gecko) Chrome/110.0.0.0 Safari/537.36\"\n",
    "}\n",
    "\n",
    "feed_url = \"https://www.cbc.ca/webfeed/rss/rss-politics\"\n",
    "\n",
    "import requests\n",
    "\n",
    "response = requests.get(feed_url, headers=headers)\n",
    "if response.status_code == 200:\n",
    "    feed = feedparser.parse(response.text)\n",
    "    print(feed.entries[:5])  # Print first 5 articles\n",
    "else:\n",
    "    print(\"Failed to fetch feed:\", response.status_code)\n"
   ]
  },
  {
   "cell_type": "code",
   "execution_count": null,
   "metadata": {},
   "outputs": [],
   "source": []
  }
 ],
 "metadata": {
  "kernelspec": {
   "display_name": "podcast",
   "language": "python",
   "name": "python3"
  },
  "language_info": {
   "codemirror_mode": {
    "name": "ipython",
    "version": 3
   },
   "file_extension": ".py",
   "mimetype": "text/x-python",
   "name": "python",
   "nbconvert_exporter": "python",
   "pygments_lexer": "ipython3",
   "version": "3.12.9"
  }
 },
 "nbformat": 4,
 "nbformat_minor": 2
}
